{
 "cells": [
  {
   "cell_type": "code",
   "execution_count": 5,
   "id": "78a7773f-0b41-4672-b0ea-68a9bd761986",
   "metadata": {},
   "outputs": [
    {
     "name": "stderr",
     "output_type": "stream",
     "text": [
      "huggingface/tokenizers: The current process just got forked, after parallelism has already been used. Disabling parallelism to avoid deadlocks...\n",
      "To disable this warning, you can either:\n",
      "\t- Avoid using `tokenizers` before the fork if possible\n",
      "\t- Explicitly set the environment variable TOKENIZERS_PARALLELISM=(true | false)\n"
     ]
    },
    {
     "name": "stdout",
     "output_type": "stream",
     "text": [
      "Collecting faiss-cpu\n",
      "  Downloading faiss_cpu-1.11.0-cp39-cp39-macosx_14_0_arm64.whl.metadata (4.8 kB)\n",
      "Requirement already satisfied: numpy<3.0,>=1.25.0 in ./.venv/lib/python3.9/site-packages (from faiss-cpu) (2.0.2)\n",
      "Requirement already satisfied: packaging in ./.venv/lib/python3.9/site-packages (from faiss-cpu) (25.0)\n",
      "Downloading faiss_cpu-1.11.0-cp39-cp39-macosx_14_0_arm64.whl (3.3 MB)\n",
      "\u001b[2K   \u001b[38;2;114;156;31m━━━━━━━━━━━━━━━━━━━━━━━━━━━━━━━━━━━━━━━━\u001b[0m \u001b[32m3.3/3.3 MB\u001b[0m \u001b[31m34.8 MB/s\u001b[0m eta \u001b[36m0:00:00\u001b[0m\n",
      "\u001b[?25hInstalling collected packages: faiss-cpu\n",
      "Successfully installed faiss-cpu-1.11.0\n",
      "Note: you may need to restart the kernel to use updated packages.\n"
     ]
    }
   ],
   "source": [
    "pip install faiss-cpu"
   ]
  },
  {
   "cell_type": "code",
   "execution_count": 6,
   "id": "b455dbbe-7cc6-499c-b856-c218b1e157ec",
   "metadata": {},
   "outputs": [
    {
     "name": "stdout",
     "output_type": "stream",
     "text": [
      "1. アカウントを削除したいです（距離: 0.67）\n",
      "2. ログインできません（距離: 0.77）\n"
     ]
    }
   ],
   "source": [
    "from sentence_transformers import SentenceTransformer\n",
    "import faiss\n",
    "import numpy as np\n",
    "\n",
    "# 文リスト\n",
    "corpus = [\n",
    "    \"パスワードを忘れました\",\n",
    "    \"ログインできません\",\n",
    "    \"アカウントを削除したいです\",\n",
    "    \"新しい機能の使い方を知りたい\",\n",
    "    \"支払い方法を変更したい\"\n",
    "]\n",
    "\n",
    "# モデルロード（軽量）\n",
    "model = SentenceTransformer('all-MiniLM-L6-v2')\n",
    "\n",
    "# ベクトル化\n",
    "corpus_embeddings = model.encode(corpus)\n",
    "\n",
    "# FAISSでインデックス作成\n",
    "index = faiss.IndexFlatL2(corpus_embeddings[0].shape[0])\n",
    "index.add(np.array(corpus_embeddings))\n",
    "\n",
    "# クエリ例\n",
    "query = \"サブスクリプションをキャンセルしたい\"\n",
    "query_vec = model.encode([query])\n",
    "\n",
    "# 検索\n",
    "top_k = 2\n",
    "D, I = index.search(np.array(query_vec), top_k)\n",
    "for i in range(top_k):\n",
    "    print(f\"{i+1}. {corpus[I[0][i]]}（距離: {D[0][i]:.2f}）\")\n"
   ]
  }
 ],
 "metadata": {
  "kernelspec": {
   "display_name": "Python 3 (ipykernel)",
   "language": "python",
   "name": "python3"
  },
  "language_info": {
   "codemirror_mode": {
    "name": "ipython",
    "version": 3
   },
   "file_extension": ".py",
   "mimetype": "text/x-python",
   "name": "python",
   "nbconvert_exporter": "python",
   "pygments_lexer": "ipython3",
   "version": "3.9.5"
  }
 },
 "nbformat": 4,
 "nbformat_minor": 5
}
